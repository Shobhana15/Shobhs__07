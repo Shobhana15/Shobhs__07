{
 "cells": [
  {
   "cell_type": "markdown",
   "metadata": {},
   "source": [
    "## Python Basic Programming Exercises"
   ]
  },
  {
   "cell_type": "raw",
   "metadata": {},
   "source": [
    "Q1: What is the output of following expression\n",
    "    5 + 4 * 9 % (3 + 1) / 6 - 1"
   ]
  },
  {
   "cell_type": "code",
   "execution_count": 23,
   "metadata": {},
   "outputs": [
    {
     "name": "stdout",
     "output_type": "stream",
     "text": [
      "4.0\n"
     ]
    }
   ],
   "source": [
    "z = 5 + 4 * 9 % (3 + 1) / 6 - 1\n",
    "print(z)"
   ]
  },
  {
   "cell_type": "raw",
   "metadata": {},
   "source": [
    "Q2: Write a program to check if a Number is Odd or Even. Take number as a input from user at runtime."
   ]
  },
  {
   "cell_type": "code",
   "execution_count": 3,
   "metadata": {},
   "outputs": [
    {
     "name": "stdout",
     "output_type": "stream",
     "text": [
      "Enter the Number :- 226\n",
      "The Number provided is Even\n"
     ]
    }
   ],
   "source": [
    "a = int(input(\"Enter the Number :- \"))\n",
    "if a%2 == 0:\n",
    "    print(\"The Number provided is Even\")\n",
    "else:\n",
    "    print(\"The Number provided is Odd\")"
   ]
  },
  {
   "cell_type": "raw",
   "metadata": {},
   "source": [
    "Q3: Write a program to display the multiplication table by taking a number as input. \n",
    "    [Hint : Use print statement inside of a loop]"
   ]
  },
  {
   "cell_type": "code",
   "execution_count": 9,
   "metadata": {},
   "outputs": [
    {
     "name": "stdout",
     "output_type": "stream",
     "text": [
      "Enter the Number :- 12\n",
      "12 x 1 = 12\n",
      "12 x 2 = 24\n",
      "12 x 3 = 36\n",
      "12 x 4 = 48\n",
      "12 x 5 = 60\n",
      "12 x 6 = 72\n",
      "12 x 7 = 84\n",
      "12 x 8 = 96\n",
      "12 x 9 = 108\n",
      "12 x 10 = 120\n"
     ]
    }
   ],
   "source": [
    "a = int(input(\"Enter the Number :- \"))\n",
    "for i in range (1,11):\n",
    "    print (a, 'x', i, '=', a*i)\n",
    "    \n",
    " "
   ]
  },
  {
   "cell_type": "raw",
   "metadata": {},
   "source": [
    "Q4: Write a program which will find all numbers between 2000 and 3200 which are divisible by 7 \n",
    "    but are not a multiple of 5.\n",
    " \n",
    "Note: The numbers obtained should be printed in a comma-separated sequence on a single line."
   ]
  },
  {
   "cell_type": "code",
   "execution_count": 35,
   "metadata": {},
   "outputs": [
    {
     "name": "stdout",
     "output_type": "stream",
     "text": [
      "2002, 2009, 2016, 2023, 2037, 2044, 2051, 2058, 2072, 2079, 2086, 2093, 2107, 2114, 2121, 2128, 2142, 2149, 2156, 2163, 2177, 2184, 2191, 2198, 2212, 2219, 2226, 2233, 2247, 2254, 2261, 2268, 2282, 2289, 2296, 2303, 2317, 2324, 2331, 2338, 2352, 2359, 2366, 2373, 2387, 2394, 2401, 2408, 2422, 2429, 2436, 2443, 2457, 2464, 2471, 2478, 2492, 2499, 2506, 2513, 2527, 2534, 2541, 2548, 2562, 2569, 2576, 2583, 2597, 2604, 2611, 2618, 2632, 2639, 2646, 2653, 2667, 2674, 2681, 2688, 2702, 2709, 2716, 2723, 2737, 2744, 2751, 2758, 2772, 2779, 2786, 2793, 2807, 2814, 2821, 2828, 2842, 2849, 2856, 2863, 2877, 2884, 2891, 2898, 2912, 2919, 2926, 2933, 2947, 2954, 2961, 2968, 2982, 2989, 2996, 3003, 3017, 3024, 3031, 3038, 3052, 3059, 3066, 3073, 3087, 3094, 3101, 3108, 3122, 3129, 3136, 3143, 3157, 3164, 3171, 3178, 3192, 3199, "
     ]
    }
   ],
   "source": [
    "for i in range(2000,3200):\n",
    "    if i%7==0 and i%5!=0:\n",
    "        print(i, end =', ')"
   ]
  },
  {
   "cell_type": "raw",
   "metadata": {},
   "source": [
    "Q5: Count the elements of each datatype inside the list and display in output\n",
    "    [2, 3, 'Py', '10', 1, 'SQL', 5.5, True, 3, 'John', None, 7]    "
   ]
  },
  {
   "cell_type": "code",
   "execution_count": 158,
   "metadata": {},
   "outputs": [
    {
     "name": "stdout",
     "output_type": "stream",
     "text": [
      "{'str_data': 4, 'int_data': 5, 'bool_data': 2, 'float_data': 1}\n"
     ]
    }
   ],
   "source": [
    "L = [2, 3, 'Py', '10', 1, 'SQL', 5.5, True, 3, 'John', None, 7] \n",
    "\n",
    "str_data = 0\n",
    "int_data = 0\n",
    "bool_data = 0\n",
    "float_data = 0\n",
    "\n",
    "for i in L:\n",
    "    if type(i) == str:\n",
    "        str_data += 1\n",
    "    elif type(i) == int:\n",
    "        int_data += 1\n",
    "    elif type(i) == bool:\n",
    "        float_data += 1\n",
    "    else: \n",
    "        bool_data += 1\n",
    "print({'str_data' : str_data , 'int_data' : int_data , 'bool_data' : bool_data, 'float_data' : float_data})\n",
    "            \n",
    "        "
   ]
  },
  {
   "cell_type": "raw",
   "metadata": {},
   "source": [
    "Q6: Add all values from the list with numeric datatypes \n",
    "    [2, 3, 'Py', '10', 1, 'SQL', 5.5, True, 3, 'John', None, 7] "
   ]
  },
  {
   "cell_type": "code",
   "execution_count": 27,
   "metadata": {},
   "outputs": [
    {
     "name": "stdout",
     "output_type": "stream",
     "text": [
      "[2, 3, 'Py', '10', 1, 'SQL', 5.5, True, 3, 'John', None, 7]\n",
      "sum of numeric datatypes from the above list 22.5\n"
     ]
    }
   ],
   "source": [
    "list1 = [2, 3, 'Py', '10', 1, 'SQL', 5.5, True, 3, 'John', None, 7] \n",
    "print(list1)\n",
    "\n",
    "result = sum(filter(lambda i: isinstance(i,int),list1))\n",
    "result1 = result + sum(filter(lambda j: isinstance(j,float),list1))\n",
    "print('sum of numeric datatypes from the above list', result1)"
   ]
  },
  {
   "cell_type": "raw",
   "metadata": {},
   "source": [
    "Q7: Concat all str datatypes with hyphen as a delimiter\n",
    "    [2, 3, 'Py', '10', 1, 'SQL', 5.5, True, 3, 'John', None, 7] "
   ]
  },
  {
   "cell_type": "code",
   "execution_count": 32,
   "metadata": {},
   "outputs": [
    {
     "data": {
      "text/plain": [
       "'Py-10-SQL-John'"
      ]
     },
     "execution_count": 32,
     "metadata": {},
     "output_type": "execute_result"
    }
   ],
   "source": [
    "list_2 = [2, 3, 'Py', '10', 1, 'SQL', 5.5, True, 3, 'John', None, 7] \n",
    "'-'.join(filter(lambda x: type(x) == str, list_2))"
   ]
  },
  {
   "cell_type": "raw",
   "metadata": {},
   "source": [
    "Q8: Write a UDF that takes list as input and returns sum of all numbers \n",
    "    (exclude bool) and count of all str \n",
    "    [2, 3, 'Py', '10', 1, 'SQL', 5.5, True, 3, 'John', None, 7] \n",
    "    \n",
    "Hint:\n",
    "-----\n",
    "def my_func:\n",
    "    # your code\n",
    "        \n",
    "my_func(l1)\n",
    "# output --> {'Sum': xxx, 'Count_of_Strs': xxx}"
   ]
  },
  {
   "cell_type": "code",
   "execution_count": 31,
   "metadata": {},
   "outputs": [
    {
     "data": {
      "text/plain": [
       "{'sum of all numbers ': 21.5, 'count of all strings': 4}"
      ]
     },
     "execution_count": 31,
     "metadata": {},
     "output_type": "execute_result"
    }
   ],
   "source": [
    "List_3 = [2, 3, 'Py', '10', 1, 'SQL', 5.5, True, 3, 'John', None, 7]\n",
    "def my_function(x):\n",
    "    \n",
    "    dict1 = {}\n",
    "    \n",
    "    dict1['sum of all numbers '] = sum ([float(i) for i in x if type(i) == int or type(i) == float])\n",
    "    dict1['count of all strings'] = len([str(i) for i in x  if type(i) == str])\n",
    "    return dict1\n",
    "\n",
    "my_function(List_3)\n"
   ]
  },
  {
   "cell_type": "raw",
   "metadata": {},
   "source": [
    "Q9: Get only odd numbers from the following list and store the numbers in new list\n",
    "    li = [5, 7, 22, 97, 54, 62, 77, 23, 73, 61]\n",
    "\n",
    "    i. Use loops to get the answer\n",
    "   ii. Use list comprehensions\n",
    "  iii. Use lambda function with filter"
   ]
  },
  {
   "cell_type": "code",
   "execution_count": 146,
   "metadata": {},
   "outputs": [
    {
     "name": "stdout",
     "output_type": "stream",
     "text": [
      "[5, 7, 97, 77, 23, 73, 61]\n"
     ]
    }
   ],
   "source": [
    "# i. Use loops to get the answer\n",
    "\n",
    "li = [5, 7, 22, 97, 54, 62, 77, 23, 73, 61]\n",
    "li_new = []\n",
    "\n",
    "for i in li:\n",
    "    if i%2!=0:\n",
    "        li_new.append(i)       \n",
    "print(li_new)\n"
   ]
  },
  {
   "cell_type": "code",
   "execution_count": 57,
   "metadata": {},
   "outputs": [
    {
     "name": "stdout",
     "output_type": "stream",
     "text": [
      "[5, 7, 97, 77, 23, 73, 61]\n"
     ]
    }
   ],
   "source": [
    "# ii. Use list comprehensions\n",
    "\n",
    "li_new_1 = [li[i] for i in range(len(li)) if li[i]%2!=0 ]\n",
    "print(li_new_1)\n"
   ]
  },
  {
   "cell_type": "code",
   "execution_count": 100,
   "metadata": {},
   "outputs": [
    {
     "data": {
      "text/plain": [
       "[5, 7, 97, 77, 23, 73, 61]"
      ]
     },
     "execution_count": 100,
     "metadata": {},
     "output_type": "execute_result"
    }
   ],
   "source": [
    "# iii. Use lambda function with filter\n",
    "\n",
    "li_new_2 = list(filter(lambda x: (x % 2 != 0), li))\n",
    "print(li_new_2)"
   ]
  },
  {
   "cell_type": "raw",
   "metadata": {},
   "source": [
    "Q10: Write a UDF to return the descriptives [sum, count, min, mean, max] for a list of n number of input \n",
    "    numbers."
   ]
  },
  {
   "cell_type": "code",
   "execution_count": 1,
   "metadata": {},
   "outputs": [
    {
     "name": "stdout",
     "output_type": "stream",
     "text": [
      "Enter the values : 1,2,3,4,5,6\n",
      "Sum of the given values :  21\n",
      "Count of the given values :  6\n",
      "Min of the given values :  1\n",
      "Mean of the given values :  3.5\n",
      "Max of the given values :  6\n"
     ]
    }
   ],
   "source": [
    "import statistics \n",
    "\n",
    "a = input(\"Enter the values : \")\n",
    "b = a.split(',')\n",
    "\n",
    "def my_func():\n",
    "    \n",
    "    print(\"Sum of the given values : \" , sum(b))\n",
    "    print(\"Count of the given values : \" , len(b))\n",
    "    print(\"Min of the given values : \" , min(b))\n",
    "    print(\"Mean of the given values : \" , statistics.mean(b))\n",
    "    print(\"Max of the given values : \" , max(b))\n",
    "    \n",
    "for i in range(len(b)):\n",
    "    b[i] = int(b[i])\n",
    "    \n",
    "my_func()   \n"
   ]
  },
  {
   "cell_type": "raw",
   "metadata": {},
   "source": [
    "Q11: Write an udf to calculate the area of different shapes\n",
    "\n",
    "Take shape and dimensions as arguments to udf as follows : \n",
    "\n",
    "1. square which has side\n",
    "2. rectangle which has length and width\n",
    "3. circle which has radius\n",
    "\n",
    "The shape should be a positional argument and it's dimensions are taken as kwargs\n",
    "\n",
    "Perform proper validation for the user inputs and then calculate area.\n",
    "\n",
    "E.g. if shape is square, ensure kwargs has \"side\" and if so, then you may return the area, else display appropriate error message like \"Please enter 'side' for a square\""
   ]
  },
  {
   "cell_type": "code",
   "execution_count": 193,
   "metadata": {},
   "outputs": [
    {
     "data": {
      "text/plain": [
       "21"
      ]
     },
     "execution_count": 193,
     "metadata": {},
     "output_type": "execute_result"
    }
   ],
   "source": [
    "def function_area(shape, **kwargs):\n",
    "       if shape == 'square':\n",
    "            if 'side' in kwargs.keys():\n",
    "                area = kwargs['side']**2\n",
    "                return area\n",
    "            else:\n",
    "                print('You need to provide side of the argument')\n",
    "       \n",
    "       elif shape == 'rectangle':\n",
    "            if 'length' in kwargs.keys() and 'breadth' in kwargs.keys():\n",
    "                area = kwargs['length'] * kwargs['breadth']\n",
    "                return area\n",
    "            else:\n",
    "                print('You need to provide length and breadth of the argument')\n",
    "    \n",
    "       else: \n",
    "            if 'radius' in kwargs.keys():\n",
    "                area = 3.147 * kwargs['radius'] **2\n",
    "                return area\n",
    "            else: \n",
    "                print('you need to provide radius of the argument')\n",
    "function_area('rectangle' , length = 3, breadth = 7)"
   ]
  },
  {
   "cell_type": "raw",
   "metadata": {},
   "source": [
    "Q12: Write a UDF to reconcile the values within two lists.\n",
    "    l1 = ['January', 'February', 'March', 'May', 'June', 'September', 'December']\n",
    "    l2 = ['January', 'February', 'April', 'June', 'October', 'December']\n",
    "\n",
    "Hint:\n",
    "-----\n",
    "def func(l1, l2):\n",
    "    your code here...\n",
    "    \n",
    "Output:\n",
    "{'Matched': ['January', 'February', 'June', 'December'],\n",
    "    'Only in l1': ['March', 'May', 'September'],\n",
    "        'Only in l2': ['April', 'October']}"
   ]
  },
  {
   "cell_type": "code",
   "execution_count": 191,
   "metadata": {},
   "outputs": [
    {
     "name": "stdout",
     "output_type": "stream",
     "text": [
      "{'Matched List': ['February', 'April', 'September', 'January', 'October', 'May', 'June', 'March', 'December'], 'List Only in l1': ['May', 'March', 'September'], 'List Only in l2': ['April', 'October']}\n"
     ]
    }
   ],
   "source": [
    "l1 = ['January', 'February', 'March', 'May', 'June', 'September', 'December']\n",
    "l2 = ['January', 'February', 'April', 'June', 'October', 'December']\n",
    "\n",
    "output = {}\n",
    "\n",
    "def my_function(x1,x2):\n",
    "    output['Matched List'] = list(set(x1).union(set(x2)))\n",
    "    output['List Only in l1'] = list(set(x1).difference(set(x2)))\n",
    "    output['List Only in l2'] = list(set(x2).difference(set(x1)))\n",
    "    return output\n",
    "\n",
    "print(my_function(l1,l2))"
   ]
  },
  {
   "cell_type": "raw",
   "metadata": {
    "collapsed": true
   },
   "source": [
    "Q13: write a UDF to check if a number is prime or not."
   ]
  },
  {
   "cell_type": "code",
   "execution_count": 149,
   "metadata": {},
   "outputs": [
    {
     "name": "stdout",
     "output_type": "stream",
     "text": [
      "Enter the number : 57\n",
      "False\n"
     ]
    }
   ],
   "source": [
    "Y = input(\"Enter the number : \")\n",
    "def my_func(i):\n",
    "    if (i==1):\n",
    "        return False\n",
    "    elif (i==2):\n",
    "        return True\n",
    "    else:\n",
    "        for x in range(2,i):\n",
    "            if(i % x==0):\n",
    "                return False\n",
    "            return True\n",
    "print(my_func(x))"
   ]
  },
  {
   "cell_type": "raw",
   "metadata": {
    "collapsed": true
   },
   "source": [
    "Q14. Write a program which can compute the factorial of a given numbers. \n",
    "#   The results should be printed in a comma-separated sequence on a single line. \n",
    "# input() function can be used for getting user(console) input\n",
    "\n",
    "\n",
    "#Suppose the input is supplied to the program:  8  \n",
    "#Then, the output should be:  40320 \n",
    "#Hints: In case of input data being supplied to the question, it should be assumed to be a console input. \n"
   ]
  },
  {
   "cell_type": "code",
   "execution_count": 308,
   "metadata": {},
   "outputs": [
    {
     "name": "stdout",
     "output_type": "stream",
     "text": [
      "Enter a number: 9\n",
      "Factorial of  9 is  [1, 2, 6, 24, 120, 720, 5040, 40320, 362880]\n"
     ]
    }
   ],
   "source": [
    "while True:\n",
    "    try:\n",
    "        num = int(input(\"Enter a number: \"))\n",
    "        break\n",
    "    except:\n",
    "        print(\"Please Enter a valid number\")\n",
    "\n",
    "factorial = 1\n",
    "result = []\n",
    "\n",
    "if num < 0:\n",
    "    print(\"The factorial does not exist for negative numbers\")\n",
    "elif num == 0:\n",
    "    print(\"The factorial of 0 is 1\")\n",
    "else:\n",
    "    \n",
    "    for i in range(1,num + 1):\n",
    "        factorial = factorial * i\n",
    "        result.append(factorial)\n",
    "        \n",
    "print(\"Factorial of \", num, \"is \", result)"
   ]
  },
  {
   "cell_type": "raw",
   "metadata": {
    "collapsed": true
   },
   "source": [
    "Q15. With a given integral number n, write a program to generate a dictionary that contains (i, i*i) such that is an integral number between 1 and n (both included). and then the program should print the dictionary.\n",
    "\n",
    "#Suppose the following input is supplied to the program: 8\n",
    "#Then, the output should be: {1: 1, 2: 4, 3: 9, 4: 16, 5: 25, 6: 36, 7: 49, 8: 64}\n",
    "#Hints: In case of input data being supplied to the question, it should be assumed to be a console input. Consider using dict()\n",
    "\n"
   ]
  },
  {
   "cell_type": "code",
   "execution_count": 262,
   "metadata": {},
   "outputs": [
    {
     "name": "stdout",
     "output_type": "stream",
     "text": [
      "Enter the number : 7\n",
      "{1: 1, 2: 4, 3: 9, 4: 16, 5: 25, 6: 36, 7: 49}\n"
     ]
    }
   ],
   "source": [
    "B = int(input('Enter the number : '))\n",
    "\n",
    "Dict = {}\n",
    "for i in range(1, B+1):\n",
    "    Dict[i] = i*i\n",
    "\n",
    "print(Dict)\n"
   ]
  },
  {
   "cell_type": "raw",
   "metadata": {
    "collapsed": true
   },
   "source": [
    "Q16. Write a program which accepts a sequence of comma-separated numbers from console and generate a list and a tuple which contains every number.\n",
    "#Suppose the following input is supplied to the program: 34,67,55,33,12,98\n",
    "    #Then, the output should be: ['34', '67', '55', '33', '12', '98'] ('34', '67', '55', '33', '12', '98')\n",
    "\n",
    "#Hints: In case of input data being supplied to the question, it should be assumed to be a console input. you may use tuple() method to convert list to tuple\n"
   ]
  },
  {
   "cell_type": "code",
   "execution_count": 267,
   "metadata": {},
   "outputs": [
    {
     "name": "stdout",
     "output_type": "stream",
     "text": [
      "Enter the given numbers : 5,4,143,87,55,97\n",
      "['5', '4', '143', '87', '55', '97'] ('5', '4', '143', '87', '55', '97')\n"
     ]
    }
   ],
   "source": [
    "C = (input(\"Enter the given numbers : \"))\n",
    "list_1 = C.split(',')\n",
    "tuple_1 = tuple(list_1)\n",
    "\n",
    "    \n",
    "print(list_1, end = ' ')\n",
    "print(tuple_1)"
   ]
  },
  {
   "cell_type": "raw",
   "metadata": {
    "collapsed": true
   },
   "source": [
    "Q17. Write a program that accepts a comma separated sequence of words as input and \n",
    "# prints the words in a comma-separated sequence after sorting them alphabetically.\n",
    "\n",
    "# Suppose the following input is supplied to the program: without,hello,bag,world\n",
    "# Then, the output should be: bag,hello,without,world\n",
    "\n",
    "#Hints: In case of input data being supplied to the question, it should be assumed to be a console input.\n"
   ]
  },
  {
   "cell_type": "code",
   "execution_count": 291,
   "metadata": {},
   "outputs": [
    {
     "name": "stdout",
     "output_type": "stream",
     "text": [
      "Enter the input as comma separated sequence of words : Green, Red, Orange, Blue, Purple\n",
      "[' Blue', ' Orange', ' Purple', ' Red', 'Green']\n"
     ]
    }
   ],
   "source": [
    "D = input(\"Enter the input as comma separated sequence of words : \")\n",
    "\n",
    "D_1 = D.split(',')\n",
    "\n",
    "E = sorted(set(D_1))\n",
    "\n",
    "print(E)"
   ]
  },
  {
   "cell_type": "raw",
   "metadata": {
    "collapsed": true
   },
   "source": [
    "Q18. Write a program that accepts a sequence of whitespace separated words \n",
    "# as input and prints the words after removing all duplicate words and sorting them alphanumerically.\n",
    "# Suppose the following input is supplied to the program: hello world and practice makes perfect and hello world again\n",
    "# Then, the output should be: again and hello makes perfect practice world\n",
    "\n",
    "#Hints: In case of input data being supplied to the question, it should be assumed to be a console input.\n",
    "#We use set container to remove duplicated data automatically and then use sorted() to sort the data.\n"
   ]
  },
  {
   "cell_type": "code",
   "execution_count": 298,
   "metadata": {},
   "outputs": [
    {
     "name": "stdout",
     "output_type": "stream",
     "text": [
      "Type the words:- this book belongs to this student who's name is Adam\n",
      "Adam belongs book is name student this to who's\n"
     ]
    }
   ],
   "source": [
    "A = input(\"Type the words:- \")\n",
    "A_1 = A.split(' ')\n",
    "\n",
    "word = []\n",
    "for i in A_1:\n",
    "    if i not in word:\n",
    "        word.append(i)\n",
    "    else:\n",
    "        continue\n",
    "word.sort()\n",
    "print((' ').join(word))"
   ]
  },
  {
   "cell_type": "raw",
   "metadata": {
    "collapsed": true
   },
   "source": [
    "Q19. Write a program that accepts a sentence and calculate the number of upper case \n",
    "# letters and lower case letters.\n",
    "#Suppose the following input is supplied to the program: Hello world!\n",
    "#Then, the output should be: UPPER CASE 1 LOWER CASE 9\n",
    "\n",
    "#Hints: In case of input data being supplied to the question, it should be assumed to be a console input.\n"
   ]
  },
  {
   "cell_type": "code",
   "execution_count": 192,
   "metadata": {},
   "outputs": [
    {
     "name": "stdout",
     "output_type": "stream",
     "text": [
      "Enter a sentence : ThisMightbetheBIGCase\n",
      "UPPER CASE  6 LOWER CASE  15\n"
     ]
    }
   ],
   "source": [
    "sentense = input('Enter a sentence : ')\n",
    "sentense = list(sentense)\n",
    "\n",
    "upper,lower = 0 , 0\n",
    "\n",
    "for i in sentense:\n",
    "    if i.isupper():\n",
    "        upper = upper + 1\n",
    "        \n",
    "    if i.islower():\n",
    "        lower = lower + 1\n",
    "    else:\n",
    "        pass\n",
    "        \n",
    "print('UPPER CASE ',upper,'LOWER CASE ',lower)"
   ]
  },
  {
   "cell_type": "raw",
   "metadata": {
    "collapsed": true
   },
   "source": [
    "Q20. Write a program that takes a string and returns reversed string. i.e. if input is \"abcd123\" output should be \"321dcba\""
   ]
  },
  {
   "cell_type": "code",
   "execution_count": 203,
   "metadata": {},
   "outputs": [
    {
     "name": "stdout",
     "output_type": "stream",
     "text": [
      "Enter the values : abcd123\n",
      "321dcba\n"
     ]
    }
   ],
   "source": [
    "Y = (input(\"Enter the values : \")) [::-1]\n",
    "print(Y)"
   ]
  },
  {
   "cell_type": "code",
   "execution_count": null,
   "metadata": {},
   "outputs": [],
   "source": []
  }
 ],
 "metadata": {
  "kernelspec": {
   "display_name": "Python 3 (ipykernel)",
   "language": "python",
   "name": "python3"
  },
  "language_info": {
   "codemirror_mode": {
    "name": "ipython",
    "version": 3
   },
   "file_extension": ".py",
   "mimetype": "text/x-python",
   "name": "python",
   "nbconvert_exporter": "python",
   "pygments_lexer": "ipython3",
   "version": "3.9.12"
  },
  "varInspector": {
   "cols": {
    "lenName": 16,
    "lenType": 16,
    "lenVar": 40
   },
   "kernels_config": {
    "python": {
     "delete_cmd_postfix": "",
     "delete_cmd_prefix": "del ",
     "library": "var_list.py",
     "varRefreshCmd": "print(var_dic_list())"
    },
    "r": {
     "delete_cmd_postfix": ") ",
     "delete_cmd_prefix": "rm(",
     "library": "var_list.r",
     "varRefreshCmd": "cat(var_dic_list()) "
    }
   },
   "types_to_exclude": [
    "module",
    "function",
    "builtin_function_or_method",
    "instance",
    "_Feature"
   ],
   "window_display": false
  }
 },
 "nbformat": 4,
 "nbformat_minor": 2
}
